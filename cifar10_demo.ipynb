{
 "cells": [
  {
   "cell_type": "markdown",
   "metadata": {},
   "source": [
    "# MultIVAP CIFAR-10 example\n",
    "\n",
    "This notebook demonstrates basic usage of our MultIVAP algorithm on a convolutional neural network for the CIFAR-10 data set.\n",
    "\n",
    "First, we import the necessary modules:"
   ]
  },
  {
   "cell_type": "code",
   "execution_count": 1,
   "metadata": {},
   "outputs": [
    {
     "name": "stderr",
     "output_type": "stream",
     "text": [
      "Using TensorFlow backend.\n"
     ]
    }
   ],
   "source": [
    "import cifar10\n",
    "import numpy as np\n",
    "import keras\n",
    "import matplotlib.pyplot as plt\n",
    "\n",
    "from multivap import MultIVAP\n",
    "from tabulate import tabulate\n",
    "from whitebox import WhiteboxAttack"
   ]
  },
  {
   "cell_type": "markdown",
   "metadata": {},
   "source": [
    "We define a couple of utility functions for data normalization and visualization of results:"
   ]
  },
  {
   "cell_type": "code",
   "execution_count": 2,
   "metadata": {},
   "outputs": [],
   "source": [
    "def normalize(arr):\n",
    "    min_val, max_val = arr.min(), arr.max()\n",
    "    arr -= min_val\n",
    "    arr /= max_val - min_val\n",
    "    return arr\n",
    "\n",
    "def heatmap(cm, xlabel='Predicted class', ylabel='True class', names=None):\n",
    "    fig, ax = plt.subplots()\n",
    "    im = ax.imshow(cm, cmap='gray_r')\n",
    "    ax.set_xticks(np.arange(cm.shape[0]))\n",
    "    ax.set_yticks(np.arange(cm.shape[1]))\n",
    "    ax.set_xticklabels([names[i] if names is not None else i+1 for i in range(cm.shape[0])])\n",
    "    ax.set_yticklabels([names[i] if names is not None else i+1 for i in range(cm.shape[1])])\n",
    "    ax.set_xlabel(xlabel)\n",
    "    ax.set_ylabel(ylabel)\n",
    "\n",
    "    if names is not None:\n",
    "        plt.setp(ax.get_xticklabels(), rotation=45, ha=\"right\", rotation_mode=\"anchor\")\n",
    "\n",
    "    for i in range(cm.shape[0]):\n",
    "        for j in range(cm.shape[1]):\n",
    "            text = ax.text(j, i, int(cm[i, j]), ha=\"center\", va=\"center\", color=\"red\")\n",
    "    fig.tight_layout()\n",
    "\n",
    "def print_metrics(metrics):\n",
    "    print(tabulate([\n",
    "        ['Jaccard index', metrics.jac],\n",
    "        ['Efficiency', '{} <= {} <= {}'.format(metrics.eff_lower, metrics.eff, metrics.eff_upper)],\n",
    "        ['Rejection', metrics.rej],\n",
    "        ['TRR', metrics.trr],\n",
    "        ['FRR', metrics.frr]\n",
    "    ]))"
   ]
  },
  {
   "cell_type": "markdown",
   "metadata": {},
   "source": [
    "Now we can load the data and prepare the training, calibration, validation and test sets:"
   ]
  },
  {
   "cell_type": "code",
   "execution_count": 3,
   "metadata": {},
   "outputs": [
    {
     "name": "stdout",
     "output_type": "stream",
     "text": [
      "Training samples: (40000, 32, 32, 3)\n",
      "Calibration samples: (10000, 32, 32, 3)\n",
      "Test samples: (10000, 32, 32, 3)\n",
      "Validation samples: (2000, 32, 32, 3)\n"
     ]
    }
   ],
   "source": [
    "# load data\n",
    "x_train, y_train, x_test, y_test = cifar10.load_datasets()\n",
    "\n",
    "# normalize the data set\n",
    "x_train = normalize(x_train.astype(np.float64))\n",
    "x_test = normalize(x_test.astype(np.float64))\n",
    "\n",
    "# splits for proper training, proper testing, calibration and validation sets\n",
    "idx = int(.8*x_train.shape[0])\n",
    "x_proper_train, y_proper_train = x_train[:idx], y_train[:idx]\n",
    "x_calib, y_calib = x_train[idx:], y_train[idx:]\n",
    "\n",
    "idx = int(.8*x_test.shape[0])\n",
    "x_proper_test, y_proper_test = x_test[:idx], y_test[:idx]\n",
    "x_valid, y_valid = x_test[idx:], y_test[idx:]\n",
    "\n",
    "print('Training samples: {}'.format(x_proper_train.shape))\n",
    "print('Calibration samples: {}'.format(x_calib.shape))\n",
    "print('Test samples: {}'.format(x_test.shape))\n",
    "print('Validation samples: {}'.format(x_valid.shape))"
   ]
  },
  {
   "cell_type": "markdown",
   "metadata": {},
   "source": [
    "We then create and fit the model as specified in `cifar10.py`:"
   ]
  },
  {
   "cell_type": "code",
   "execution_count": 4,
   "metadata": {},
   "outputs": [
    {
     "name": "stderr",
     "output_type": "stream",
     "text": [
      "WARNING: Logging before flag parsing goes to stderr.\n",
      "W0214 13:30:37.154367 140182244149056 deprecation_wrapper.py:119] From /scratch/tensorflow/lib/python3.6/site-packages/keras/backend/tensorflow_backend.py:4070: The name tf.nn.max_pool is deprecated. Please use tf.nn.max_pool2d instead.\n",
      "\n",
      "W0214 13:30:38.949012 140182244149056 deprecation_wrapper.py:119] From /scratch/tensorflow/lib/python3.6/site-packages/keras/backend/tensorflow_backend.py:422: The name tf.global_variables is deprecated. Please use tf.compat.v1.global_variables instead.\n",
      "\n"
     ]
    },
    {
     "name": "stdout",
     "output_type": "stream",
     "text": [
      "Train on 40000 samples, validate on 2000 samples\n",
      "Epoch 1/10\n",
      "40000/40000 [==============================] - 7s 182us/step - loss: 1.6282 - accuracy: 0.4023 - val_loss: 1.2568 - val_accuracy: 0.5390\n",
      "Epoch 2/10\n",
      "40000/40000 [==============================] - 6s 139us/step - loss: 1.2239 - accuracy: 0.5628 - val_loss: 1.0867 - val_accuracy: 0.6085\n",
      "Epoch 3/10\n",
      "40000/40000 [==============================] - 5s 136us/step - loss: 1.0305 - accuracy: 0.6373 - val_loss: 0.9486 - val_accuracy: 0.6700\n",
      "Epoch 4/10\n",
      "40000/40000 [==============================] - 5s 137us/step - loss: 0.9035 - accuracy: 0.6827 - val_loss: 0.8602 - val_accuracy: 0.6980\n",
      "Epoch 5/10\n",
      "40000/40000 [==============================] - 5s 135us/step - loss: 0.7853 - accuracy: 0.7245 - val_loss: 0.8077 - val_accuracy: 0.7200\n",
      "Epoch 6/10\n",
      "40000/40000 [==============================] - 5s 137us/step - loss: 0.7081 - accuracy: 0.7531 - val_loss: 0.7643 - val_accuracy: 0.7280\n",
      "Epoch 7/10\n",
      "40000/40000 [==============================] - 6s 138us/step - loss: 0.6342 - accuracy: 0.7782 - val_loss: 0.7419 - val_accuracy: 0.7330\n",
      "Epoch 8/10\n",
      "40000/40000 [==============================] - 5s 136us/step - loss: 0.5704 - accuracy: 0.7983 - val_loss: 0.7340 - val_accuracy: 0.7355\n",
      "Epoch 9/10\n",
      "40000/40000 [==============================] - 5s 137us/step - loss: 0.5144 - accuracy: 0.8180 - val_loss: 0.7180 - val_accuracy: 0.7450\n",
      "Epoch 10/10\n",
      "40000/40000 [==============================] - 6s 139us/step - loss: 0.4676 - accuracy: 0.8348 - val_loss: 0.6744 - val_accuracy: 0.7605\n"
     ]
    },
    {
     "data": {
      "text/plain": [
       "<keras.callbacks.callbacks.History at 0x7f7e20f4aac8>"
      ]
     },
     "execution_count": 4,
     "metadata": {},
     "output_type": "execute_result"
    }
   ],
   "source": [
    "model = cifar10.create_model()\n",
    "model.compile(loss=keras.losses.categorical_crossentropy,\n",
    "                optimizer=cifar10.get_optimizer(),\n",
    "                metrics=['accuracy'])\n",
    "model.fit(x_proper_train, y_proper_train,\n",
    "        batch_size=128,\n",
    "        epochs=10,\n",
    "        verbose=1,\n",
    "        validation_data=(x_valid, y_valid))"
   ]
  },
  {
   "cell_type": "markdown",
   "metadata": {},
   "source": [
    "Once the model is trained, we can create an instance of the MultIVAP class. To do so, we must pass the underlying model, calibration data set and the number of classes. The MultIVAP will then be calibrated on this data:"
   ]
  },
  {
   "cell_type": "code",
   "execution_count": 5,
   "metadata": {},
   "outputs": [],
   "source": [
    "multivap = MultIVAP(model, x_calib, y_calib, y_test.shape[1])"
   ]
  },
  {
   "cell_type": "markdown",
   "metadata": {},
   "source": [
    "Using the held-out validation data set, the significance level $\\varepsilon$ can be tuned so that the predictive efficiency is as close to one as possible:"
   ]
  },
  {
   "cell_type": "code",
   "execution_count": 6,
   "metadata": {},
   "outputs": [
    {
     "name": "stdout",
     "output_type": "stream",
     "text": [
      "Significance level: 0.21739214658737183\n"
     ]
    }
   ],
   "source": [
    "eps, _ = multivap.tune(x_valid)\n",
    "print('Significance level: {}'.format(eps))"
   ]
  },
  {
   "cell_type": "markdown",
   "metadata": {},
   "source": [
    "We now evaluate the performance of the tuned MultIVAP on the regular test data:"
   ]
  },
  {
   "cell_type": "code",
   "execution_count": 7,
   "metadata": {},
   "outputs": [
    {
     "name": "stdout",
     "output_type": "stream",
     "text": [
      "-------------  ----------------------\n",
      "Jaccard index  0.6330625\n",
      "Efficiency     0.0 <= 1.020375 <= 2.0\n",
      "Rejection      0.14975\n",
      "TRR            0.35714285714285715\n",
      "FRR            0.08867313915857605\n",
      "-------------  ----------------------\n"
     ]
    },
    {
     "data": {
      "image/png": "[encoded data removed]",
      "text/plain": [
       "<Figure size 432x288 with 1 Axes>"
      ]
     },
     "metadata": {
      "needs_background": "light"
     },
     "output_type": "display_data"
    }
   ],
   "source": [
    "cm, metrics = multivap.evaluate(x_proper_test, y_proper_test, eps)\n",
    "print_metrics(metrics)\n",
    "heatmap(cm, names=cifar10.names)"
   ]
  },
  {
   "cell_type": "markdown",
   "metadata": {},
   "source": [
    "## White-box adversarial attack\n",
    "\n",
    "We also demonstrate how to use our custom white-box attack to generate adversarial examples for the MultIVAP. We first instantiate the attack with the MultIVAP, the underlying model, the calibration data and the batch size:"
   ]
  },
  {
   "cell_type": "code",
   "execution_count": 8,
   "metadata": {},
   "outputs": [
    {
     "name": "stderr",
     "output_type": "stream",
     "text": [
      "W0214 13:33:48.266425 140182244149056 deprecation_wrapper.py:119] From /home/jpeck/multivap/whitebox.py:26: The name tf.variable_scope is deprecated. Please use tf.compat.v1.variable_scope instead.\n",
      "\n",
      "W0214 13:33:48.266994 140182244149056 deprecation_wrapper.py:119] From /home/jpeck/multivap/whitebox.py:26: The name tf.AUTO_REUSE is deprecated. Please use tf.compat.v1.AUTO_REUSE instead.\n",
      "\n",
      "W0214 13:33:48.267774 140182244149056 deprecation_wrapper.py:119] From /home/jpeck/multivap/whitebox.py:27: The name tf.placeholder is deprecated. Please use tf.compat.v1.placeholder instead.\n",
      "\n",
      "W0214 13:33:48.271901 140182244149056 deprecation_wrapper.py:119] From /home/jpeck/multivap/whitebox.py:30: The name tf.get_variable is deprecated. Please use tf.compat.v1.get_variable instead.\n",
      "\n",
      "W0214 13:33:48.272760 140182244149056 deprecation.py:506] From /scratch/tensorflow/lib/python3.6/site-packages/tensorflow/python/ops/init_ops.py:1251: calling VarianceScaling.__init__ (from tensorflow.python.ops.init_ops) with dtype is deprecated and will be removed in a future version.\n",
      "Instructions for updating:\n",
      "Call initializer instance with the dtype argument instead of passing it to the constructor\n",
      "W0214 13:33:48.403827 140182244149056 deprecation_wrapper.py:119] From /home/jpeck/multivap/whitebox.py:37: The name tf.train.AdamOptimizer is deprecated. Please use tf.compat.v1.train.AdamOptimizer instead.\n",
      "\n"
     ]
    }
   ],
   "source": [
    "whitebox = WhiteboxAttack(multivap, model, x_calib, y_calib, batch_size=128)"
   ]
  },
  {
   "cell_type": "markdown",
   "metadata": {},
   "source": [
    "Generating adversarial examples is then easily done as follows:"
   ]
  },
  {
   "cell_type": "code",
   "execution_count": 9,
   "metadata": {},
   "outputs": [
    {
     "name": "stderr",
     "output_type": "stream",
     "text": [
      "100%|██████████| 62/62 [1:03:49<00:00, 52.30s/it]\n"
     ]
    }
   ],
   "source": [
    "x_advs, flags = whitebox.attack(x_proper_test, y_proper_test, eta=0.03, beta=eps, its=100)"
   ]
  },
  {
   "cell_type": "markdown",
   "metadata": {},
   "source": [
    "The arrays `x_advs` and `flags` contain the actual adversarial examples and flags indicating which adversarials count as a success. This allows us to easily compute the success rate:"
   ]
  },
  {
   "cell_type": "code",
   "execution_count": 10,
   "metadata": {},
   "outputs": [
    {
     "name": "stdout",
     "output_type": "stream",
     "text": [
      "Success rate: 0.219\n",
      "\n"
     ]
    }
   ],
   "source": [
    "print('Success rate: {}\\n'.format(flags.mean()))"
   ]
  },
  {
   "cell_type": "code",
   "execution_count": null,
   "metadata": {},
   "outputs": [],
   "source": []
  }
 ],
 "metadata": {
  "kernelspec": {
   "display_name": "Python 3",
   "language": "python",
   "name": "python3"
  },
  "language_info": {
   "codemirror_mode": {
    "name": "ipython",
    "version": 3
   },
   "file_extension": ".py",
   "mimetype": "text/x-python",
   "name": "python",
   "nbconvert_exporter": "python",
   "pygments_lexer": "ipython3",
   "version": "3.6.8"
  }
 },
 "nbformat": 4,
 "nbformat_minor": 2
}
