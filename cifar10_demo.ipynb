{
 "cells": [
  {
   "cell_type": "markdown",
   "metadata": {},
   "source": [
    "# MultIVAP CIFAR-10 example\n",
    "\n",
    "This notebook demonstrates basic usage of our MultIVAP algorithm on a convolutional neural network for the CIFAR-10 data set.\n",
    "\n",
    "First, we import the necessary modules:"
   ]
  },
  {
   "cell_type": "code",
   "execution_count": 1,
   "metadata": {},
   "outputs": [
    {
     "name": "stderr",
     "output_type": "stream",
     "text": [
      "Using TensorFlow backend.\n"
     ]
    }
   ],
   "source": [
    "import cifar10\n",
    "import numpy as np\n",
    "import keras\n",
    "import matplotlib.pyplot as plt\n",
    "\n",
    "from multivap import MultIVAP\n",
    "from tabulate import tabulate\n",
    "from whitebox import WhiteboxAttack"
   ]
  },
  {
   "cell_type": "markdown",
   "metadata": {},
   "source": [
    "We define a couple of utility functions for data normalization and visualization of results:"
   ]
  },
  {
   "cell_type": "code",
   "execution_count": 2,
   "metadata": {},
   "outputs": [],
   "source": [
    "def normalize(arr):\n",
    "    min_val, max_val = arr.min(), arr.max()\n",
    "    arr -= min_val\n",
    "    arr /= max_val - min_val\n",
    "    return arr\n",
    "\n",
    "def heatmap(cm):\n",
    "    fig, ax = plt.subplots()\n",
    "    im = ax.imshow(cm, cmap='gray')\n",
    "    ax.set_xticks(np.arange(cm.shape[0]))\n",
    "    ax.set_yticks(np.arange(cm.shape[1]))\n",
    "    ax.set_xticklabels([i+1 for i in range(cm.shape[0])])\n",
    "    ax.set_yticklabels([i+1 for i in range(cm.shape[1])])\n",
    "    ax.set_xlabel('Predicted class')\n",
    "    ax.set_ylabel('True class')\n",
    "    for i in range(cm.shape[0]):\n",
    "        for j in range(cm.shape[1]):\n",
    "            text = ax.text(j, i, int(cm[i, j]),\n",
    "                           ha=\"center\", va=\"center\", color=\"red\")\n",
    "    fig.tight_layout()\n",
    "\n",
    "def print_metrics(metrics):\n",
    "    print(tabulate([\n",
    "        ['Accuracy', metrics.acc],\n",
    "        ['Efficiency', '{} <= {} <= {}'.format(metrics.eff_lower, metrics.eff, metrics.eff_upper)],\n",
    "        ['Rejection', metrics.rej],\n",
    "        ['TRR', metrics.trr],\n",
    "        ['FRR', metrics.frr]\n",
    "    ]))"
   ]
  },
  {
   "cell_type": "markdown",
   "metadata": {},
   "source": [
    "Now we can load the data and prepare the training, calibration, validation and test sets:"
   ]
  },
  {
   "cell_type": "code",
   "execution_count": 3,
   "metadata": {},
   "outputs": [
    {
     "name": "stdout",
     "output_type": "stream",
     "text": [
      "Training samples: (40000, 32, 32, 3)\n",
      "Calibration samples: (10000, 32, 32, 3)\n",
      "Test samples: (10000, 32, 32, 3)\n",
      "Validation samples: (2000, 32, 32, 3)\n"
     ]
    }
   ],
   "source": [
    "# load data\n",
    "x_train, y_train, x_test, y_test = cifar10.load_datasets()\n",
    "\n",
    "# normalize the data set\n",
    "x_train = normalize(x_train.astype(np.float64))\n",
    "x_test = normalize(x_test.astype(np.float64))\n",
    "\n",
    "# splits for proper training, proper testing, calibration and validation sets\n",
    "idx = int(.8*x_train.shape[0])\n",
    "x_proper_train, y_proper_train = x_train[:idx], y_train[:idx]\n",
    "x_calib, y_calib = x_train[idx:], y_train[idx:]\n",
    "\n",
    "idx = int(.8*x_test.shape[0])\n",
    "x_proper_test, y_proper_test = x_test[:idx], y_test[:idx]\n",
    "x_valid, y_valid = x_test[idx:], y_test[idx:]\n",
    "\n",
    "print('Training samples: {}'.format(x_proper_train.shape))\n",
    "print('Calibration samples: {}'.format(x_calib.shape))\n",
    "print('Test samples: {}'.format(x_test.shape))\n",
    "print('Validation samples: {}'.format(x_valid.shape))"
   ]
  },
  {
   "cell_type": "markdown",
   "metadata": {},
   "source": [
    "We then create and fit the model as specified in `cifar10.py`:"
   ]
  },
  {
   "cell_type": "code",
   "execution_count": 4,
   "metadata": {},
   "outputs": [
    {
     "name": "stderr",
     "output_type": "stream",
     "text": [
      "WARNING: Logging before flag parsing goes to stderr.\n",
      "W0828 14:06:02.427728 140274115786560 deprecation_wrapper.py:119] From /scratch/tensorflow/lib/python3.6/site-packages/keras/backend/tensorflow_backend.py:74: The name tf.get_default_graph is deprecated. Please use tf.compat.v1.get_default_graph instead.\n",
      "\n",
      "W0828 14:06:02.471475 140274115786560 deprecation_wrapper.py:119] From /scratch/tensorflow/lib/python3.6/site-packages/keras/backend/tensorflow_backend.py:517: The name tf.placeholder is deprecated. Please use tf.compat.v1.placeholder instead.\n",
      "\n",
      "W0828 14:06:02.493202 140274115786560 deprecation_wrapper.py:119] From /scratch/tensorflow/lib/python3.6/site-packages/keras/backend/tensorflow_backend.py:4138: The name tf.random_uniform is deprecated. Please use tf.random.uniform instead.\n",
      "\n",
      "W0828 14:06:02.595081 140274115786560 deprecation_wrapper.py:119] From /scratch/tensorflow/lib/python3.6/site-packages/keras/backend/tensorflow_backend.py:3976: The name tf.nn.max_pool is deprecated. Please use tf.nn.max_pool2d instead.\n",
      "\n",
      "W0828 14:06:02.636797 140274115786560 deprecation_wrapper.py:119] From /scratch/tensorflow/lib/python3.6/site-packages/keras/backend/tensorflow_backend.py:133: The name tf.placeholder_with_default is deprecated. Please use tf.compat.v1.placeholder_with_default instead.\n",
      "\n",
      "W0828 14:06:02.653311 140274115786560 deprecation.py:506] From /scratch/tensorflow/lib/python3.6/site-packages/keras/backend/tensorflow_backend.py:3445: calling dropout (from tensorflow.python.ops.nn_ops) with keep_prob is deprecated and will be removed in a future version.\n",
      "Instructions for updating:\n",
      "Please use `rate` instead of `keep_prob`. Rate should be set to `rate = 1 - keep_prob`.\n",
      "W0828 14:06:03.267201 140274115786560 deprecation_wrapper.py:119] From /scratch/tensorflow/lib/python3.6/site-packages/keras/optimizers.py:790: The name tf.train.Optimizer is deprecated. Please use tf.compat.v1.train.Optimizer instead.\n",
      "\n",
      "W0828 14:06:03.394278 140274115786560 deprecation_wrapper.py:119] From /scratch/tensorflow/lib/python3.6/site-packages/keras/backend/tensorflow_backend.py:3295: The name tf.log is deprecated. Please use tf.math.log instead.\n",
      "\n",
      "W0828 14:06:03.832992 140274115786560 deprecation.py:323] From /scratch/tensorflow/lib/python3.6/site-packages/tensorflow/python/ops/math_grad.py:1250: add_dispatch_support.<locals>.wrapper (from tensorflow.python.ops.array_ops) is deprecated and will be removed in a future version.\n",
      "Instructions for updating:\n",
      "Use tf.where in 2.0, which has the same broadcast rule as np.where\n"
     ]
    },
    {
     "name": "stdout",
     "output_type": "stream",
     "text": [
      "Train on 40000 samples, validate on 2000 samples\n",
      "Epoch 1/10\n",
      "40000/40000 [==============================] - 19s 477us/step - loss: 1.5796 - acc: 0.4235 - val_loss: 1.2798 - val_acc: 0.5260\n",
      "Epoch 2/10\n",
      "40000/40000 [==============================] - 5s 130us/step - loss: 1.1772 - acc: 0.5813 - val_loss: 1.0720 - val_acc: 0.6120\n",
      "Epoch 3/10\n",
      "40000/40000 [==============================] - 5s 133us/step - loss: 1.0058 - acc: 0.6405 - val_loss: 0.9751 - val_acc: 0.6615\n",
      "Epoch 4/10\n",
      "40000/40000 [==============================] - 6s 142us/step - loss: 0.8752 - acc: 0.6907 - val_loss: 0.8440 - val_acc: 0.7080\n",
      "Epoch 5/10\n",
      "40000/40000 [==============================] - 5s 124us/step - loss: 0.7770 - acc: 0.7263 - val_loss: 0.8009 - val_acc: 0.7175\n",
      "Epoch 6/10\n",
      "40000/40000 [==============================] - 6s 147us/step - loss: 0.7008 - acc: 0.7540 - val_loss: 0.7912 - val_acc: 0.7205\n",
      "Epoch 7/10\n",
      "40000/40000 [==============================] - 6s 138us/step - loss: 0.6314 - acc: 0.7785 - val_loss: 0.7867 - val_acc: 0.7270\n",
      "Epoch 8/10\n",
      "40000/40000 [==============================] - 5s 123us/step - loss: 0.5687 - acc: 0.7977 - val_loss: 0.7788 - val_acc: 0.7375\n",
      "Epoch 9/10\n",
      "40000/40000 [==============================] - 5s 136us/step - loss: 0.5093 - acc: 0.8209 - val_loss: 0.7066 - val_acc: 0.7670\n",
      "Epoch 10/10\n",
      "40000/40000 [==============================] - 5s 133us/step - loss: 0.4558 - acc: 0.8385 - val_loss: 0.7191 - val_acc: 0.7585\n"
     ]
    },
    {
     "data": {
      "text/plain": [
       "<keras.callbacks.History at 0x7f938baf9f60>"
      ]
     },
     "execution_count": 4,
     "metadata": {},
     "output_type": "execute_result"
    }
   ],
   "source": [
    "model = cifar10.create_model()\n",
    "model.compile(loss=keras.losses.categorical_crossentropy,\n",
    "                optimizer=cifar10.get_optimizer(),\n",
    "                metrics=['accuracy'])\n",
    "model.fit(x_proper_train, y_proper_train,\n",
    "        batch_size=128,\n",
    "        epochs=10,\n",
    "        verbose=1,\n",
    "        validation_data=(x_valid, y_valid))"
   ]
  },
  {
   "cell_type": "markdown",
   "metadata": {},
   "source": [
    "Once the model is trained, we can calibrate the MultIVAP:"
   ]
  },
  {
   "cell_type": "code",
   "execution_count": 5,
   "metadata": {},
   "outputs": [],
   "source": [
    "multivap = MultIVAP(model, x_calib, y_calib, y_test.shape[1])"
   ]
  },
  {
   "cell_type": "markdown",
   "metadata": {},
   "source": [
    "Using the held-out validation data set, the significance level $\\varepsilon$ can be tuned so that the predictive efficiency is as close to one as possible:"
   ]
  },
  {
   "cell_type": "code",
   "execution_count": 6,
   "metadata": {},
   "outputs": [
    {
     "name": "stdout",
     "output_type": "stream",
     "text": [
      "Significance level: 0.21176475286483765\n"
     ]
    }
   ],
   "source": [
    "best_beta, _ = multivap.tune(x_valid)\n",
    "print('Significance level: {}'.format(best_beta))"
   ]
  },
  {
   "cell_type": "markdown",
   "metadata": {},
   "source": [
    "We now evaluate the performance of the tuned MultIVAP on the regular test data:"
   ]
  },
  {
   "cell_type": "code",
   "execution_count": 7,
   "metadata": {},
   "outputs": [
    {
     "name": "stdout",
     "output_type": "stream",
     "text": [
      "----------  ----------------------\n",
      "Accuracy    0.8313465783664459\n",
      "Efficiency  0.0 <= 1.025875 <= 2.0\n",
      "Rejection   0.150625\n",
      "TRR         0.3315677966101695\n",
      "FRR         0.09473167539267016\n",
      "----------  ----------------------\n"
     ]
    },
    {
     "data": {
      "image/png": "[encoded data removed]",
      "text/plain": [
       "<Figure size 432x288 with 1 Axes>"
      ]
     },
     "metadata": {
      "needs_background": "light"
     },
     "output_type": "display_data"
    }
   ],
   "source": [
    "cm, metrics = multivap.evaluate(x_proper_test, y_proper_test, best_beta)\n",
    "print_metrics(metrics)\n",
    "heatmap(cm)"
   ]
  },
  {
   "cell_type": "markdown",
   "metadata": {},
   "source": [
    "## White-box adversarial attack\n",
    "\n",
    "We also demonstrate how to use our custom white-box attack to generate adversarial examples for the MultIVAP. We first instantiate the attack with the MultIVAP, the underlying model, the calibration data and the batch size:"
   ]
  },
  {
   "cell_type": "code",
   "execution_count": 8,
   "metadata": {},
   "outputs": [
    {
     "name": "stderr",
     "output_type": "stream",
     "text": [
      "W0828 14:09:08.702240 140274115786560 deprecation.py:506] From /scratch/tensorflow/lib/python3.6/site-packages/tensorflow/python/ops/init_ops.py:1251: calling VarianceScaling.__init__ (from tensorflow.python.ops.init_ops) with dtype is deprecated and will be removed in a future version.\n",
      "Instructions for updating:\n",
      "Call initializer instance with the dtype argument instead of passing it to the constructor\n",
      "W0828 14:09:09.169498 140274115786560 deprecation_wrapper.py:119] From /home/jpeck/multivap/whitebox.py:37: The name tf.train.AdamOptimizer is deprecated. Please use tf.compat.v1.train.AdamOptimizer instead.\n",
      "\n"
     ]
    }
   ],
   "source": [
    "whitebox = WhiteboxAttack(multivap, model, x_calib, y_calib, batch_size=128)"
   ]
  },
  {
   "cell_type": "markdown",
   "metadata": {},
   "source": [
    "Generating adversarial examples is then easily done as follows:"
   ]
  },
  {
   "cell_type": "code",
   "execution_count": null,
   "metadata": {},
   "outputs": [
    {
     "name": "stderr",
     "output_type": "stream",
     "text": [
      "  2%|▏         | 1/62 [02:14<2:17:14, 134.99s/it]"
     ]
    }
   ],
   "source": [
    "x_advs, flags = whitebox.attack(x_proper_test, y_proper_test, eta=0.03, beta=best_beta, its=100)"
   ]
  },
  {
   "cell_type": "markdown",
   "metadata": {},
   "source": [
    "The arrays `x_advs` and `flags` contain the actual adversarial examples and flags indicating which adversarials count as a success. This allows us to easily compute the success rate:"
   ]
  },
  {
   "cell_type": "code",
   "execution_count": null,
   "metadata": {},
   "outputs": [],
   "source": [
    "print('Success rate: {}\\n'.format(flags.mean()))"
   ]
  },
  {
   "cell_type": "code",
   "execution_count": null,
   "metadata": {},
   "outputs": [],
   "source": []
  }
 ],
 "metadata": {
  "kernelspec": {
   "display_name": "Python 3",
   "language": "python",
   "name": "python3"
  },
  "language_info": {
   "codemirror_mode": {
    "name": "ipython",
    "version": 3
   },
   "file_extension": ".py",
   "mimetype": "text/x-python",
   "name": "python",
   "nbconvert_exporter": "python",
   "pygments_lexer": "ipython3",
   "version": "3.6.8"
  }
 },
 "nbformat": 4,
 "nbformat_minor": 2
}
